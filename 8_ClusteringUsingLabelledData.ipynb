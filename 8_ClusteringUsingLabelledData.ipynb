{
 "cells": [
  {
   "cell_type": "code",
   "execution_count": 2,
   "metadata": {},
   "outputs": [],
   "source": [
    "import pandas as pd\n",
    "import matplotlib.pyplot as plt\n",
    "import numpy as np"
   ]
  },
  {
   "cell_type": "code",
   "execution_count": 3,
   "metadata": {},
   "outputs": [
    {
     "data": {
      "text/html": [
       "<div>\n",
       "<style scoped>\n",
       "    .dataframe tbody tr th:only-of-type {\n",
       "        vertical-align: middle;\n",
       "    }\n",
       "\n",
       "    .dataframe tbody tr th {\n",
       "        vertical-align: top;\n",
       "    }\n",
       "\n",
       "    .dataframe thead th {\n",
       "        text-align: right;\n",
       "    }\n",
       "</style>\n",
       "<table border=\"1\" class=\"dataframe\">\n",
       "  <thead>\n",
       "    <tr style=\"text-align: right;\">\n",
       "      <th></th>\n",
       "      <th>mpg</th>\n",
       "      <th>cylinders</th>\n",
       "      <th>cubicinches</th>\n",
       "      <th>hp</th>\n",
       "      <th>weightlbs</th>\n",
       "      <th>time-to-60</th>\n",
       "      <th>year</th>\n",
       "      <th>brand</th>\n",
       "    </tr>\n",
       "  </thead>\n",
       "  <tbody>\n",
       "    <tr>\n",
       "      <td>0</td>\n",
       "      <td>14.0</td>\n",
       "      <td>8</td>\n",
       "      <td>350</td>\n",
       "      <td>165</td>\n",
       "      <td>4209</td>\n",
       "      <td>12</td>\n",
       "      <td>1972</td>\n",
       "      <td>US.</td>\n",
       "    </tr>\n",
       "    <tr>\n",
       "      <td>1</td>\n",
       "      <td>31.9</td>\n",
       "      <td>4</td>\n",
       "      <td>89</td>\n",
       "      <td>71</td>\n",
       "      <td>1925</td>\n",
       "      <td>14</td>\n",
       "      <td>1980</td>\n",
       "      <td>Europe.</td>\n",
       "    </tr>\n",
       "    <tr>\n",
       "      <td>2</td>\n",
       "      <td>17.0</td>\n",
       "      <td>8</td>\n",
       "      <td>302</td>\n",
       "      <td>140</td>\n",
       "      <td>3449</td>\n",
       "      <td>11</td>\n",
       "      <td>1971</td>\n",
       "      <td>US.</td>\n",
       "    </tr>\n",
       "    <tr>\n",
       "      <td>3</td>\n",
       "      <td>15.0</td>\n",
       "      <td>8</td>\n",
       "      <td>400</td>\n",
       "      <td>150</td>\n",
       "      <td>3761</td>\n",
       "      <td>10</td>\n",
       "      <td>1971</td>\n",
       "      <td>US.</td>\n",
       "    </tr>\n",
       "    <tr>\n",
       "      <td>4</td>\n",
       "      <td>30.5</td>\n",
       "      <td>4</td>\n",
       "      <td>98</td>\n",
       "      <td>63</td>\n",
       "      <td>2051</td>\n",
       "      <td>17</td>\n",
       "      <td>1978</td>\n",
       "      <td>US.</td>\n",
       "    </tr>\n",
       "  </tbody>\n",
       "</table>\n",
       "</div>"
      ],
      "text/plain": [
       "    mpg   cylinders  cubicinches   hp  weightlbs   time-to-60   year     brand\n",
       "0  14.0           8          350  165       4209           12   1972       US.\n",
       "1  31.9           4           89   71       1925           14   1980   Europe.\n",
       "2  17.0           8          302  140       3449           11   1971       US.\n",
       "3  15.0           8          400  150       3761           10   1971       US.\n",
       "4  30.5           4           98   63       2051           17   1978       US."
      ]
     },
     "execution_count": 3,
     "metadata": {},
     "output_type": "execute_result"
    }
   ],
   "source": [
    "data = pd.read_csv('datasets/cars.csv')\n",
    "\n",
    "data.head()"
   ]
  },
  {
   "cell_type": "code",
   "execution_count": 4,
   "metadata": {},
   "outputs": [
    {
     "data": {
      "text/plain": [
       "(261, 8)"
      ]
     },
     "execution_count": 4,
     "metadata": {},
     "output_type": "execute_result"
    }
   ],
   "source": [
    "data.shape"
   ]
  },
  {
   "cell_type": "code",
   "execution_count": 5,
   "metadata": {},
   "outputs": [],
   "source": [
    "# On mélange le dataset en préservant les datapoints\n",
    "data = data.sample(frac=1)"
   ]
  },
  {
   "cell_type": "code",
   "execution_count": 6,
   "metadata": {},
   "outputs": [
    {
     "name": "stdout",
     "output_type": "stream",
     "text": [
      "<class 'pandas.core.frame.DataFrame'>\n",
      "Int64Index: 261 entries, 7 to 190\n",
      "Data columns (total 8 columns):\n",
      "mpg             261 non-null float64\n",
      " cylinders      261 non-null int64\n",
      " cubicinches    261 non-null object\n",
      " hp             261 non-null int64\n",
      " weightlbs      261 non-null object\n",
      " time-to-60     261 non-null int64\n",
      " year           261 non-null int64\n",
      " brand          261 non-null object\n",
      "dtypes: float64(1), int64(4), object(3)\n",
      "memory usage: 18.4+ KB\n"
     ]
    }
   ],
   "source": [
    "data.info()"
   ]
  },
  {
   "cell_type": "code",
   "execution_count": 8,
   "metadata": {},
   "outputs": [
    {
     "data": {
      "text/plain": [
       "Index(['mpg', 'cylinders', 'cubicinches', 'hp', 'weightlbs', 'time-to-60',\n",
       "       'year', 'brand'],\n",
       "      dtype='object')"
      ]
     },
     "execution_count": 8,
     "metadata": {},
     "output_type": "execute_result"
    }
   ],
   "source": [
    "# Les colonnes object et cubicinches sont de types objects, on doit donc faire un prétraitement dessus\n",
    "# Avant cela, on enlève les espaces qu'il y a dans certains labels de colonnes\n",
    "data.columns = data.columns.str.lstrip()\n",
    "data.columns"
   ]
  },
  {
   "cell_type": "code",
   "execution_count": 9,
   "metadata": {},
   "outputs": [],
   "source": [
    "# On cast les objets en int avec la fonction panda to_numeric\n",
    "# errors='coerce' permet de remplacer toutes les valeurs qui n'ont pas pu être castée en Nan\n",
    "data['cubucinches'] = pd.to_numeric(data['cubicinches'], errors='coerce')\n",
    "data['weightlbs'] = pd.to_numeric(data['weightlbs'], errors='coerce')"
   ]
  },
  {
   "cell_type": "code",
   "execution_count": 11,
   "metadata": {},
   "outputs": [],
   "source": [
    "# La fonctione dropna permet d'enlever du dataset toutes les lignes contenant des Nan\n",
    "data.dropna(inplace=True)"
   ]
  },
  {
   "cell_type": "code",
   "execution_count": 12,
   "metadata": {},
   "outputs": [
    {
     "data": {
      "text/plain": [
       "(256, 9)"
      ]
     },
     "execution_count": 12,
     "metadata": {},
     "output_type": "execute_result"
    }
   ],
   "source": [
    "data.shape"
   ]
  },
  {
   "cell_type": "code",
   "execution_count": 16,
   "metadata": {},
   "outputs": [
    {
     "data": {
      "text/html": [
       "<div>\n",
       "<style scoped>\n",
       "    .dataframe tbody tr th:only-of-type {\n",
       "        vertical-align: middle;\n",
       "    }\n",
       "\n",
       "    .dataframe tbody tr th {\n",
       "        vertical-align: top;\n",
       "    }\n",
       "\n",
       "    .dataframe thead th {\n",
       "        text-align: right;\n",
       "    }\n",
       "</style>\n",
       "<table border=\"1\" class=\"dataframe\">\n",
       "  <thead>\n",
       "    <tr style=\"text-align: right;\">\n",
       "      <th></th>\n",
       "      <th>mpg</th>\n",
       "      <th>cylinders</th>\n",
       "      <th>cubicinches</th>\n",
       "      <th>hp</th>\n",
       "      <th>weightlbs</th>\n",
       "      <th>time-to-60</th>\n",
       "      <th>year</th>\n",
       "      <th>brand</th>\n",
       "      <th>cubucinches</th>\n",
       "    </tr>\n",
       "  </thead>\n",
       "  <tbody>\n",
       "    <tr>\n",
       "      <td>7</td>\n",
       "      <td>14.0</td>\n",
       "      <td>8</td>\n",
       "      <td>440</td>\n",
       "      <td>215</td>\n",
       "      <td>4312.0</td>\n",
       "      <td>9</td>\n",
       "      <td>1971</td>\n",
       "      <td>2</td>\n",
       "      <td>440.0</td>\n",
       "    </tr>\n",
       "    <tr>\n",
       "      <td>99</td>\n",
       "      <td>16.0</td>\n",
       "      <td>6</td>\n",
       "      <td>250</td>\n",
       "      <td>100</td>\n",
       "      <td>3781.0</td>\n",
       "      <td>17</td>\n",
       "      <td>1975</td>\n",
       "      <td>2</td>\n",
       "      <td>250.0</td>\n",
       "    </tr>\n",
       "    <tr>\n",
       "      <td>215</td>\n",
       "      <td>32.9</td>\n",
       "      <td>4</td>\n",
       "      <td>119</td>\n",
       "      <td>100</td>\n",
       "      <td>2615.0</td>\n",
       "      <td>15</td>\n",
       "      <td>1982</td>\n",
       "      <td>1</td>\n",
       "      <td>119.0</td>\n",
       "    </tr>\n",
       "    <tr>\n",
       "      <td>104</td>\n",
       "      <td>32.2</td>\n",
       "      <td>4</td>\n",
       "      <td>108</td>\n",
       "      <td>75</td>\n",
       "      <td>2265.0</td>\n",
       "      <td>15</td>\n",
       "      <td>1981</td>\n",
       "      <td>1</td>\n",
       "      <td>108.0</td>\n",
       "    </tr>\n",
       "    <tr>\n",
       "      <td>156</td>\n",
       "      <td>18.0</td>\n",
       "      <td>3</td>\n",
       "      <td>70</td>\n",
       "      <td>90</td>\n",
       "      <td>2124.0</td>\n",
       "      <td>14</td>\n",
       "      <td>1974</td>\n",
       "      <td>1</td>\n",
       "      <td>70.0</td>\n",
       "    </tr>\n",
       "  </tbody>\n",
       "</table>\n",
       "</div>"
      ],
      "text/plain": [
       "      mpg  cylinders cubicinches   hp  weightlbs  time-to-60  year  brand  \\\n",
       "7    14.0          8         440  215     4312.0           9  1971      2   \n",
       "99   16.0          6         250  100     3781.0          17  1975      2   \n",
       "215  32.9          4         119  100     2615.0          15  1982      1   \n",
       "104  32.2          4         108   75     2265.0          15  1981      1   \n",
       "156  18.0          3          70   90     2124.0          14  1974      1   \n",
       "\n",
       "     cubucinches  \n",
       "7          440.0  \n",
       "99         250.0  \n",
       "215        119.0  \n",
       "104        108.0  \n",
       "156         70.0  "
      ]
     },
     "execution_count": 16,
     "metadata": {},
     "output_type": "execute_result"
    }
   ],
   "source": [
    "# Il nous reste la colonne brand qui est une colonne de string : il faut convertir ca en int \n",
    "# pour nos algorithm : comme d'habitude, on applique le LabelEncoder\n",
    "from sklearn.preprocessing import LabelEncoder\n",
    "\n",
    "labelEncoder = LabelEncoder()\n",
    "data['brand'] = labelEncoder.fit_transform(data['brand'].astype(str))\n",
    "\n",
    "data.head()"
   ]
  },
  {
   "cell_type": "code",
   "execution_count": 18,
   "metadata": {},
   "outputs": [],
   "source": [
    "# Notre dataset est pret : on choisit les colonnes que l'on inclue dans notre catégorisation\n",
    "data_x = pd.DataFrame(data, columns = ['mpg', 'cubicinches', 'cylinders', 'hp'])\n",
    "# On utilise la marque comme label en y\n",
    "label_y = data['brand']"
   ]
  },
  {
   "cell_type": "code",
   "execution_count": 19,
   "metadata": {},
   "outputs": [
    {
     "data": {
      "text/plain": [
       "Text(0, 0.5, 'Weight')"
      ]
     },
     "execution_count": 19,
     "metadata": {},
     "output_type": "execute_result"
    },
    {
     "data": {
      "image/png": "[encoded data removed]",
      "text/plain": [
       "<Figure size 720x576 with 1 Axes>"
      ]
     },
     "metadata": {
      "needs_background": "light"
     },
     "output_type": "display_data"
    }
   ],
   "source": [
    "# On ne peut pas tout afficher ici mais on affiche un scatter plot entre la consomation (miles \n",
    "# per gallion) et le poids\n",
    "plt.figure(figsize=(10,8))\n",
    "\n",
    "plt.scatter(data['mpg'], data['weightlbs'])\n",
    "\n",
    "plt.xlabel(\"Mileage per gallon\")\n",
    "plt.ylabel(\"Weight\")"
   ]
  },
  {
   "cell_type": "code",
   "execution_count": 52,
   "metadata": {},
   "outputs": [
    {
     "data": {
      "image/png": "[encoded data removed]",
      "text/plain": [
       "<Figure size 432x288 with 1 Axes>"
      ]
     },
     "metadata": {
      "needs_background": "light"
     },
     "output_type": "display_data"
    }
   ],
   "source": [
    "# On veut mainteant appliquer notre Kmean classifier mais on ne sait pas trop quel \n",
    "# est le nombre de categories à choisir pour obtenir le meilleur résultat\n",
    "# On applique donc l'algo sur les valeurs de 1 à 15 centres puis on choisit celui pour lesquels\n",
    "# les catégories sont les plus compactes\n",
    "from sklearn.cluster import KMeans\n",
    "\n",
    "sum_of_squared_distances = []\n",
    "\n",
    "K = range(1,15)\n",
    "\n",
    "for k in K:\n",
    "    # On construit notre model\n",
    "    k_means = KMeans(n_clusters=k)\n",
    "    k_means = k_means.fit(data_x)\n",
    "    \n",
    "    # On entre l'inertie qui ne permet de mesurer a quel point les catégories sont compactes\n",
    "    # ie le model est bon\n",
    "    sum_of_squared_distances.append(k_means.inertia_)\n",
    "    \n",
    "# On affiche ces infos dans un graphe\n",
    "plt.plot(K, sum_of_squared_distances, 'bx-')\n",
    "plt.xlabel('k')\n",
    "plt.ylabel('Sum of Squared distances')\n",
    "\n",
    "# Ce graphe est appelé coude car il dessine un coude et c'est la valeur qui fait l'angle qui\n",
    "# est celle que l'on doit choisir ici on peut voir que c'est 3\n",
    "plt.title('Elbow plot for optimal number of clusters')\n",
    "plt.show()"
   ]
  },
  {
   "cell_type": "code",
   "execution_count": 53,
   "metadata": {},
   "outputs": [],
   "source": [
    "# On applique maintenant le KMeans avec la valeur 3 que nous avons trouvé être la meilleure\n",
    "k_means = KMeans(n_clusters=3)\n",
    "k_means = k_means.fit(data_x)"
   ]
  },
  {
   "cell_type": "code",
   "execution_count": 54,
   "metadata": {},
   "outputs": [
    {
     "name": "stdout",
     "output_type": "stream",
     "text": [
      "Score =  0.6323149311159748\n"
     ]
    }
   ],
   "source": [
    "# On calcul maitenant le Silhouette Score pour voir a quel point notre model est satisfaisant\n",
    "# Le silhoutte score mesure a peut pret comme l'inertie\n",
    "from sklearn.metrics import silhouette_score\n",
    "\n",
    "score = silhouette_score(data_x, k_means.labels_)\n",
    "\n",
    "print(\"Score = \", score)"
   ]
  },
  {
   "cell_type": "code",
   "execution_count": 56,
   "metadata": {},
   "outputs": [
    {
     "name": "stdout",
     "output_type": "stream",
     "text": [
      "Homogeneity Score =  0.31550036277564175\n"
     ]
    }
   ],
   "source": [
    "# Un autre moyen de mesurer le score de notre classificateur et l'homogénéité\n",
    "# L'homogenieté mesure si chaque cluster contient seuleument 1 seul type de valeur contenue dans y\n",
    "from sklearn.metrics import homogeneity_score\n",
    "\n",
    "hmg_score = homogeneity_score(label_y, k_means.labels_)\n",
    "\n",
    "print(\"Homogeneity Score = \", hmg_score)"
   ]
  },
  {
   "cell_type": "code",
   "execution_count": 58,
   "metadata": {},
   "outputs": [
    {
     "name": "stdout",
     "output_type": "stream",
     "text": [
      "V Measure Score =  0.3003375614022765\n"
     ]
    }
   ],
   "source": [
    "# Un autre moyen de mesure est le vmeasure_score : la moyenne hamonique entre le socre \n",
    "# d'homogenieté et le completeness score que l'on va voir juste apres\n",
    "from sklearn.metrics import v_measure_score\n",
    "\n",
    "vm_score = v_measure_score(label_y, k_means.labels_)\n",
    "\n",
    "print(\"V Measure Score = \", vm_score)"
   ]
  },
  {
   "cell_type": "code",
   "execution_count": 60,
   "metadata": {},
   "outputs": [
    {
     "name": "stdout",
     "output_type": "stream",
     "text": [
      "Completeness Score =  0.28656536273532296\n"
     ]
    }
   ],
   "source": [
    "# Le completeness mesure si tous les points appartenant à la meme classe (dans y) appartiennent\n",
    "# Au meme cluster\n",
    "from sklearn.metrics import completeness_score\n",
    "\n",
    "comp_score = completeness_score(label_y, k_means.labels_)\n",
    "\n",
    "print(\"Completeness Score = \", comp_score)"
   ]
  },
  {
   "cell_type": "code",
   "execution_count": 63,
   "metadata": {},
   "outputs": [
    {
     "name": "stdout",
     "output_type": "stream",
     "text": [
      "Adjusted Rand Score =  0.11281925794858025\n"
     ]
    }
   ],
   "source": [
    "# Une autre methode est le adjusted_rand_score : Mesure la similaritée entre les cluster avec un\n",
    "# facteur \"chance\" qui est dirigé par est-ce que le label en y est correct\n",
    "\n",
    "# Quand les clusters ont été attribués de maniere complemente aléatoire comparer a notre label\n",
    "# y, le score est proche de 0. Si les cluster match assez bien avec notre label y, le score est \n",
    "# proche de 1 \n",
    "\n",
    "from sklearn.metrics import adjusted_rand_score\n",
    "\n",
    "adj_r_score = adjusted_rand_score(label_y, k_means.labels_)\n",
    "\n",
    "print(\"Adjusted Rand Score = \", adj_r_score)"
   ]
  },
  {
   "cell_type": "code",
   "execution_count": 66,
   "metadata": {},
   "outputs": [
    {
     "name": "stdout",
     "output_type": "stream",
     "text": [
      "Adjusted mutual Score =  0.29459818425329665\n"
     ]
    }
   ],
   "source": [
    "# Une dernire metrics est le ajdusted_mutual_info_score : On observe une variable aléatoire\n",
    "# en observant une autre variable aléatoire\n",
    "# Aucune idée de ce que ca veut dire, a creuser\n",
    "from sklearn.metrics import adjusted_mutual_info_score\n",
    "\n",
    "adj_mutual_score = adjusted_mutual_info_score(label_y, k_means.labels_, average_method='arithmetic')\n",
    "\n",
    "print(\"Adjusted mutual Score = \", adj_mutual_score)"
   ]
  },
  {
   "cell_type": "code",
   "execution_count": null,
   "metadata": {},
   "outputs": [],
   "source": []
  }
 ],
 "metadata": {
  "kernelspec": {
   "display_name": "Python 3",
   "language": "python",
   "name": "python3"
  },
  "language_info": {
   "codemirror_mode": {
    "name": "ipython",
    "version": 3
   },
   "file_extension": ".py",
   "mimetype": "text/x-python",
   "name": "python",
   "nbconvert_exporter": "python",
   "pygments_lexer": "ipython3",
   "version": "3.7.4"
  }
 },
 "nbformat": 4,
 "nbformat_minor": 2
}
